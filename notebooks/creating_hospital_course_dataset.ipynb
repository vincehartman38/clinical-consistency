{
 "cells": [
  {
   "cell_type": "markdown",
   "metadata": {
    "id": "HA7RTw4ibY5j"
   },
   "source": [
    "### Objective: Segment the HPI, Day-to-day Hospital Course, and Discharge Plan within the Discharge Summary."
   ]
  },
  {
   "cell_type": "code",
   "execution_count": 1,
   "metadata": {
    "id": "9hEIZkCIa9dw"
   },
   "outputs": [],
   "source": [
    "import numpy as np\n",
    "import pandas as pd\n",
    "import re"
   ]
  },
  {
   "cell_type": "code",
   "execution_count": 2,
   "metadata": {
    "colab": {
     "base_uri": "https://localhost:8080/"
    },
    "id": "rAMmWeRadjma",
    "outputId": "cfb9c81f-0367-4d5f-bf44-14ae46fd0b1b"
   },
   "outputs": [],
   "source": [
    "#Upload MIMIC-III NOTEEVENTS.CSV Dataset\n",
    "notes_csv = '../data/mimic-III-dataset/NOTEEVENTS.csv'"
   ]
  },
  {
   "cell_type": "code",
   "execution_count": 3,
   "metadata": {
    "id": "4e-c-ti4cofQ"
   },
   "outputs": [],
   "source": [
    "def load_data(dataset):\n",
    "        print('----Started data loading process...')\n",
    "        df = pd.read_csv(dataset)\n",
    "        print('----Data loaded.')\n",
    "        return df"
   ]
  },
  {
   "cell_type": "code",
   "execution_count": 4,
   "metadata": {
    "id": "UKhmqH9MJFI1"
   },
   "outputs": [
    {
     "name": "stdout",
     "output_type": "stream",
     "text": [
      "----Started data loading process...\n"
     ]
    },
    {
     "name": "stderr",
     "output_type": "stream",
     "text": [
      "C:\\Users\\vince\\AppData\\Local\\Temp\\ipykernel_28796\\3062051375.py:3: DtypeWarning: Columns (4,5) have mixed types. Specify dtype option on import or set low_memory=False.\n",
      "  df = pd.read_csv(dataset)\n"
     ]
    },
    {
     "name": "stdout",
     "output_type": "stream",
     "text": [
      "----Data loaded.\n"
     ]
    }
   ],
   "source": [
    "df_notes = load_data(notes_csv)"
   ]
  },
  {
   "cell_type": "code",
   "execution_count": 5,
   "metadata": {
    "colab": {
     "base_uri": "https://localhost:8080/"
    },
    "id": "RrIqY3WCioMx",
    "outputId": "d94f9df1-1dc4-4e2d-ca95-e2416e985630"
   },
   "outputs": [
    {
     "name": "stdout",
     "output_type": "stream",
     "text": [
      "['ROW_ID', 'SUBJECT_ID', 'HADM_ID', 'CHARTDATE', 'CHARTTIME', 'STORETIME', 'CATEGORY', 'DESCRIPTION', 'CGID', 'ISERROR', 'TEXT']\n"
     ]
    }
   ],
   "source": [
    "df_notes_headers = list(df_notes.columns.values)\n",
    "print(df_notes_headers)"
   ]
  },
  {
   "cell_type": "code",
   "execution_count": 6,
   "metadata": {
    "colab": {
     "base_uri": "https://localhost:8080/"
    },
    "id": "uS41Ahcdkeik",
    "outputId": "904cf35e-9903-445a-a6cf-43391c90668a"
   },
   "outputs": [
    {
     "name": "stdout",
     "output_type": "stream",
     "text": [
      "['Case Management ' 'Consult' 'Discharge summary' 'ECG' 'Echo' 'General'\n",
      " 'Nursing' 'Nursing/other' 'Nutrition' 'Pharmacy' 'Physician ' 'Radiology'\n",
      " 'Rehab Services' 'Respiratory ' 'Social Work']\n"
     ]
    }
   ],
   "source": [
    "CATEGORY_VALUES = np.unique(df_notes['CATEGORY'].to_numpy())\n",
    "print(CATEGORY_VALUES)"
   ]
  },
  {
   "cell_type": "code",
   "execution_count": 7,
   "metadata": {
    "id": "WIBv6r3-lVLf"
   },
   "outputs": [],
   "source": [
    "#Filter Notes to only be the Discharge Summaries (not addendums) for segmentation\n",
    "df_ds = df_notes.loc[(df_notes['CATEGORY'] == 'Discharge summary') & (df_notes['DESCRIPTION'] == 'Report')]"
   ]
  },
  {
   "cell_type": "code",
   "execution_count": 8,
   "metadata": {
    "colab": {
     "base_uri": "https://localhost:8080/"
    },
    "id": "-Vtf7qMKuOg_",
    "outputId": "cd66ceb5-df15-4d48-8100-4535a0a4ed66"
   },
   "outputs": [
    {
     "name": "stderr",
     "output_type": "stream",
     "text": [
      "C:\\Users\\vince\\AppData\\Local\\Temp\\ipykernel_28796\\3672507448.py:7: SettingWithCopyWarning: \n",
      "A value is trying to be set on a copy of a slice from a DataFrame.\n",
      "Try using .loc[row_indexer,col_indexer] = value instead\n",
      "\n",
      "See the caveats in the documentation: https://pandas.pydata.org/pandas-docs/stable/user_guide/indexing.html#returning-a-view-versus-a-copy\n",
      "  df_ds['HOSPITAL_COURSE'] = partition1\n",
      "C:\\Users\\vince\\AppData\\Local\\Temp\\ipykernel_28796\\3672507448.py:8: SettingWithCopyWarning: \n",
      "A value is trying to be set on a copy of a slice from a DataFrame.\n",
      "Try using .loc[row_indexer,col_indexer] = value instead\n",
      "\n",
      "See the caveats in the documentation: https://pandas.pydata.org/pandas-docs/stable/user_guide/indexing.html#returning-a-view-versus-a-copy\n",
      "  df_ds['HOSPITAL_COURSE'] = df_ds[\"HOSPITAL_COURSE\"].fillna(partition2)\n",
      "C:\\Users\\vince\\AppData\\Local\\Temp\\ipykernel_28796\\3672507448.py:9: SettingWithCopyWarning: \n",
      "A value is trying to be set on a copy of a slice from a DataFrame.\n",
      "Try using .loc[row_indexer,col_indexer] = value instead\n",
      "\n",
      "See the caveats in the documentation: https://pandas.pydata.org/pandas-docs/stable/user_guide/indexing.html#returning-a-view-versus-a-copy\n",
      "  df_ds['HOSPITAL_COURSE'] = df_ds[\"HOSPITAL_COURSE\"].fillna(partition3)\n",
      "C:\\Users\\vince\\AppData\\Local\\Temp\\ipykernel_28796\\3672507448.py:10: SettingWithCopyWarning: \n",
      "A value is trying to be set on a copy of a slice from a DataFrame.\n",
      "Try using .loc[row_indexer,col_indexer] = value instead\n",
      "\n",
      "See the caveats in the documentation: https://pandas.pydata.org/pandas-docs/stable/user_guide/indexing.html#returning-a-view-versus-a-copy\n",
      "  df_ds['HOSPITAL_COURSE'] = df_ds[\"HOSPITAL_COURSE\"].fillna(partition4)\n"
     ]
    }
   ],
   "source": [
    "# Extract Hospital Course based on Regex\n",
    "\n",
    "partition1 = df_ds['TEXT'].str.partition('Brief Hospital Course:')[2].replace(r'^\\s*$', np.nan, regex=True)\n",
    "partition2 = df_ds['TEXT'].str.partition('BRIEF SUMMARY OF HOSPITAL COURSE:')[2].replace(r'^\\s*$', np.nan, regex=True)\n",
    "partition3 = df_ds['TEXT'].str.partition('HOSPITAL COURSE:')[2].replace(r'^\\s*$', np.nan, regex=True)\n",
    "partition4 = df_ds['TEXT'].str.partition('ASSESSMENT:')[2]\n",
    "df_ds['HOSPITAL_COURSE'] = partition1\n",
    "df_ds['HOSPITAL_COURSE'] = df_ds[\"HOSPITAL_COURSE\"].fillna(partition2)\n",
    "df_ds['HOSPITAL_COURSE'] = df_ds[\"HOSPITAL_COURSE\"].fillna(partition3)\n",
    "df_ds['HOSPITAL_COURSE'] = df_ds[\"HOSPITAL_COURSE\"].fillna(partition4)"
   ]
  },
  {
   "cell_type": "code",
   "execution_count": 9,
   "metadata": {
    "id": "YcoUkcGz9uHd"
   },
   "outputs": [],
   "source": [
    "# Filter out Hospital Courses that are Null\n",
    "df_hc = df_ds.loc[df_ds['HOSPITAL_COURSE'] != \"\"]"
   ]
  },
  {
   "cell_type": "code",
   "execution_count": 10,
   "metadata": {
    "colab": {
     "base_uri": "https://localhost:8080/"
    },
    "id": "m0Jv4CrFW3zz",
    "outputId": "9ffb7d77-d531-4393-cc2b-47cab5a002aa"
   },
   "outputs": [
    {
     "name": "stderr",
     "output_type": "stream",
     "text": [
      "C:\\Users\\vince\\AppData\\Local\\Temp\\ipykernel_28796\\3139295600.py:2: SettingWithCopyWarning: \n",
      "A value is trying to be set on a copy of a slice from a DataFrame.\n",
      "Try using .loc[row_indexer,col_indexer] = value instead\n",
      "\n",
      "See the caveats in the documentation: https://pandas.pydata.org/pandas-docs/stable/user_guide/indexing.html#returning-a-view-versus-a-copy\n",
      "  df_hc['REMOVE'] = True\n"
     ]
    }
   ],
   "source": [
    "# Create new column for Extraction\n",
    "df_hc['REMOVE'] = True"
   ]
  },
  {
   "cell_type": "code",
   "execution_count": 11,
   "metadata": {
    "colab": {
     "base_uri": "https://localhost:8080/"
    },
    "id": "UAGAeeFlI1_j",
    "outputId": "8763050f-2641-48fd-90ed-3432a509bc63"
   },
   "outputs": [
    {
     "name": "stderr",
     "output_type": "stream",
     "text": [
      "C:\\Users\\vince\\AppData\\Local\\Temp\\ipykernel_28796\\1351333493.py:4: SettingWithCopyWarning: \n",
      "A value is trying to be set on a copy of a slice from a DataFrame.\n",
      "Try using .loc[row_indexer,col_indexer] = value instead\n",
      "\n",
      "See the caveats in the documentation: https://pandas.pydata.org/pandas-docs/stable/user_guide/indexing.html#returning-a-view-versus-a-copy\n",
      "  df_hc['REMOVE'] = pd.isna(removal[1].replace(r'^\\s*$', np.nan, regex=True))\n",
      "C:\\Users\\vince\\AppData\\Local\\Temp\\ipykernel_28796\\1351333493.py:5: SettingWithCopyWarning: \n",
      "A value is trying to be set on a copy of a slice from a DataFrame.\n",
      "Try using .loc[row_indexer,col_indexer] = value instead\n",
      "\n",
      "See the caveats in the documentation: https://pandas.pydata.org/pandas-docs/stable/user_guide/indexing.html#returning-a-view-versus-a-copy\n",
      "  df_hc['HOSPITAL_COURSE'] = removal[0]\n",
      "C:\\Users\\vince\\AppData\\Local\\Temp\\ipykernel_28796\\1351333493.py:9: SettingWithCopyWarning: \n",
      "A value is trying to be set on a copy of a slice from a DataFrame.\n",
      "Try using .loc[row_indexer,col_indexer] = value instead\n",
      "\n",
      "See the caveats in the documentation: https://pandas.pydata.org/pandas-docs/stable/user_guide/indexing.html#returning-a-view-versus-a-copy\n",
      "  df_hc['HOSPITAL_COURSE'] = removal[0]\n",
      "C:\\Users\\vince\\AppData\\Local\\Temp\\ipykernel_28796\\1351333493.py:13: SettingWithCopyWarning: \n",
      "A value is trying to be set on a copy of a slice from a DataFrame.\n",
      "Try using .loc[row_indexer,col_indexer] = value instead\n",
      "\n",
      "See the caveats in the documentation: https://pandas.pydata.org/pandas-docs/stable/user_guide/indexing.html#returning-a-view-versus-a-copy\n",
      "  df_hc['HOSPITAL_COURSE'] = removal[0]\n",
      "C:\\Users\\vince\\AppData\\Local\\Temp\\ipykernel_28796\\1351333493.py:17: SettingWithCopyWarning: \n",
      "A value is trying to be set on a copy of a slice from a DataFrame.\n",
      "Try using .loc[row_indexer,col_indexer] = value instead\n",
      "\n",
      "See the caveats in the documentation: https://pandas.pydata.org/pandas-docs/stable/user_guide/indexing.html#returning-a-view-versus-a-copy\n",
      "  df_hc['HOSPITAL_COURSE'] = removal[0]\n"
     ]
    }
   ],
   "source": [
    "# Remove the last part of the hospital course after medications\n",
    "\n",
    "removal = df_hc['HOSPITAL_COURSE'].str.partition('Medications on Admission:')\n",
    "df_hc['REMOVE'] = pd.isna(removal[1].replace(r'^\\s*$', np.nan, regex=True))\n",
    "df_hc['HOSPITAL_COURSE'] = removal[0]\n",
    "\n",
    "removal = df_hc['HOSPITAL_COURSE'].str.partition('DISCHARGE MEDICATIONS:')\n",
    "df_hc.loc[df_hc['REMOVE'] == True, 'REMOVE'] = pd.isna(removal[1].replace(r'^\\s*$', np.nan, regex=True))\n",
    "df_hc['HOSPITAL_COURSE'] = removal[0]\n",
    "\n",
    "removal = df_hc['HOSPITAL_COURSE'].str.partition('MEDICATIONS ON DISCHARGE:')\n",
    "df_hc.loc[df_hc['REMOVE'] == True, 'REMOVE'] = pd.isna(removal[1].replace(r'^\\s*$', np.nan, regex=True))\n",
    "df_hc['HOSPITAL_COURSE'] = removal[0]\n",
    "\n",
    "removal = df_hc['HOSPITAL_COURSE'].str.partition('Discharge Medications:')\n",
    "df_hc.loc[df_hc['REMOVE'] == True, 'REMOVE'] = pd.isna(removal[1].replace(r'^\\s*$', np.nan, regex=True))\n",
    "df_hc['HOSPITAL_COURSE'] = removal[0]"
   ]
  },
  {
   "cell_type": "code",
   "execution_count": 12,
   "metadata": {
    "id": "eULH6h9EYDDs"
   },
   "outputs": [],
   "source": [
    "df_hc_filter = df_hc.loc[df_hc['REMOVE'] == False]\n",
    "df_hc_filter = df_hc_filter.drop(columns=['REMOVE'])"
   ]
  },
  {
   "cell_type": "code",
   "execution_count": 13,
   "metadata": {
    "id": "KD6Z1AR6IYLD"
   },
   "outputs": [],
   "source": [
    "df_hc_filter.reset_index(drop=True, inplace=True)"
   ]
  },
  {
   "cell_type": "code",
   "execution_count": 14,
   "metadata": {
    "colab": {
     "base_uri": "https://localhost:8080/",
     "height": 419
    },
    "id": "ObpsvKa0Gcjk",
    "outputId": "f88a280d-d072-45d4-ff9a-b0c85758042e"
   },
   "outputs": [
    {
     "data": {
      "text/html": [
       "<div>\n",
       "<style scoped>\n",
       "    .dataframe tbody tr th:only-of-type {\n",
       "        vertical-align: middle;\n",
       "    }\n",
       "\n",
       "    .dataframe tbody tr th {\n",
       "        vertical-align: top;\n",
       "    }\n",
       "\n",
       "    .dataframe thead th {\n",
       "        text-align: right;\n",
       "    }\n",
       "</style>\n",
       "<table border=\"1\" class=\"dataframe\">\n",
       "  <thead>\n",
       "    <tr style=\"text-align: right;\">\n",
       "      <th></th>\n",
       "      <th>ROW_ID</th>\n",
       "      <th>SUBJECT_ID</th>\n",
       "      <th>HADM_ID</th>\n",
       "      <th>CHARTDATE</th>\n",
       "      <th>CHARTTIME</th>\n",
       "      <th>STORETIME</th>\n",
       "      <th>CATEGORY</th>\n",
       "      <th>DESCRIPTION</th>\n",
       "      <th>CGID</th>\n",
       "      <th>ISERROR</th>\n",
       "      <th>TEXT</th>\n",
       "      <th>HOSPITAL_COURSE</th>\n",
       "    </tr>\n",
       "  </thead>\n",
       "  <tbody>\n",
       "    <tr>\n",
       "      <th>0</th>\n",
       "      <td>175</td>\n",
       "      <td>13702</td>\n",
       "      <td>107527.0</td>\n",
       "      <td>2118-06-14</td>\n",
       "      <td>NaN</td>\n",
       "      <td>NaN</td>\n",
       "      <td>Discharge summary</td>\n",
       "      <td>Report</td>\n",
       "      <td>NaN</td>\n",
       "      <td>NaN</td>\n",
       "      <td>Admission Date:  [**2118-6-2**]       Discharg...</td>\n",
       "      <td>\\n1. COPD/dyspnea/pneumonia:  The patient was ...</td>\n",
       "    </tr>\n",
       "    <tr>\n",
       "      <th>1</th>\n",
       "      <td>176</td>\n",
       "      <td>13702</td>\n",
       "      <td>167118.0</td>\n",
       "      <td>2119-05-25</td>\n",
       "      <td>NaN</td>\n",
       "      <td>NaN</td>\n",
       "      <td>Discharge summary</td>\n",
       "      <td>Report</td>\n",
       "      <td>NaN</td>\n",
       "      <td>NaN</td>\n",
       "      <td>Admission Date:  [**2119-5-4**]              D...</td>\n",
       "      <td>\\n82 y/o female admitted [**2119-5-4**] for co...</td>\n",
       "    </tr>\n",
       "    <tr>\n",
       "      <th>2</th>\n",
       "      <td>177</td>\n",
       "      <td>13702</td>\n",
       "      <td>196489.0</td>\n",
       "      <td>2124-08-18</td>\n",
       "      <td>NaN</td>\n",
       "      <td>NaN</td>\n",
       "      <td>Discharge summary</td>\n",
       "      <td>Report</td>\n",
       "      <td>NaN</td>\n",
       "      <td>NaN</td>\n",
       "      <td>Admission Date:  [**2124-7-21**]              ...</td>\n",
       "      <td>\\n87 yo F with h/o CHF, COPD on 5 L oxygen at ...</td>\n",
       "    </tr>\n",
       "    <tr>\n",
       "      <th>3</th>\n",
       "      <td>178</td>\n",
       "      <td>26880</td>\n",
       "      <td>135453.0</td>\n",
       "      <td>2162-03-25</td>\n",
       "      <td>NaN</td>\n",
       "      <td>NaN</td>\n",
       "      <td>Discharge summary</td>\n",
       "      <td>Report</td>\n",
       "      <td>NaN</td>\n",
       "      <td>NaN</td>\n",
       "      <td>Admission Date:  [**2162-3-3**]              D...</td>\n",
       "      <td>\\nMr. [**Known lastname 1829**] was seen at [*...</td>\n",
       "    </tr>\n",
       "    <tr>\n",
       "      <th>4</th>\n",
       "      <td>179</td>\n",
       "      <td>53181</td>\n",
       "      <td>170490.0</td>\n",
       "      <td>2172-03-08</td>\n",
       "      <td>NaN</td>\n",
       "      <td>NaN</td>\n",
       "      <td>Discharge summary</td>\n",
       "      <td>Report</td>\n",
       "      <td>NaN</td>\n",
       "      <td>NaN</td>\n",
       "      <td>Admission Date:  [**2172-3-5**]              D...</td>\n",
       "      <td>\\nPatient presented electively for meningioma ...</td>\n",
       "    </tr>\n",
       "    <tr>\n",
       "      <th>...</th>\n",
       "      <td>...</td>\n",
       "      <td>...</td>\n",
       "      <td>...</td>\n",
       "      <td>...</td>\n",
       "      <td>...</td>\n",
       "      <td>...</td>\n",
       "      <td>...</td>\n",
       "      <td>...</td>\n",
       "      <td>...</td>\n",
       "      <td>...</td>\n",
       "      <td>...</td>\n",
       "      <td>...</td>\n",
       "    </tr>\n",
       "    <tr>\n",
       "      <th>45162</th>\n",
       "      <td>53613</td>\n",
       "      <td>43691</td>\n",
       "      <td>147266.0</td>\n",
       "      <td>2147-03-01</td>\n",
       "      <td>NaN</td>\n",
       "      <td>NaN</td>\n",
       "      <td>Discharge summary</td>\n",
       "      <td>Report</td>\n",
       "      <td>NaN</td>\n",
       "      <td>NaN</td>\n",
       "      <td>Admission Date:  [**2147-2-25**]              ...</td>\n",
       "      <td>\\nMs. [**Known lastname **] was admitted to th...</td>\n",
       "    </tr>\n",
       "    <tr>\n",
       "      <th>45163</th>\n",
       "      <td>53614</td>\n",
       "      <td>80847</td>\n",
       "      <td>129802.0</td>\n",
       "      <td>2190-06-05</td>\n",
       "      <td>NaN</td>\n",
       "      <td>NaN</td>\n",
       "      <td>Discharge summary</td>\n",
       "      <td>Report</td>\n",
       "      <td>NaN</td>\n",
       "      <td>NaN</td>\n",
       "      <td>Admission Date:  [**2190-5-13**]              ...</td>\n",
       "      <td>\\nThis patient presented to the Emergency Depa...</td>\n",
       "    </tr>\n",
       "    <tr>\n",
       "      <th>45164</th>\n",
       "      <td>53615</td>\n",
       "      <td>41074</td>\n",
       "      <td>182558.0</td>\n",
       "      <td>2121-06-14</td>\n",
       "      <td>NaN</td>\n",
       "      <td>NaN</td>\n",
       "      <td>Discharge summary</td>\n",
       "      <td>Report</td>\n",
       "      <td>NaN</td>\n",
       "      <td>NaN</td>\n",
       "      <td>Admission Date:  [**2121-6-13**]              ...</td>\n",
       "      <td>\\n74 y/o male who presents with massive ICH.\\n...</td>\n",
       "    </tr>\n",
       "    <tr>\n",
       "      <th>45165</th>\n",
       "      <td>53616</td>\n",
       "      <td>76397</td>\n",
       "      <td>184741.0</td>\n",
       "      <td>2182-04-22</td>\n",
       "      <td>NaN</td>\n",
       "      <td>NaN</td>\n",
       "      <td>Discharge summary</td>\n",
       "      <td>Report</td>\n",
       "      <td>NaN</td>\n",
       "      <td>NaN</td>\n",
       "      <td>Admission Date:  [**2182-4-19**]              ...</td>\n",
       "      <td>\\nGiven splenic laceration Mr. [**Known lastna...</td>\n",
       "    </tr>\n",
       "    <tr>\n",
       "      <th>45166</th>\n",
       "      <td>53617</td>\n",
       "      <td>87196</td>\n",
       "      <td>121964.0</td>\n",
       "      <td>2186-06-16</td>\n",
       "      <td>NaN</td>\n",
       "      <td>NaN</td>\n",
       "      <td>Discharge summary</td>\n",
       "      <td>Report</td>\n",
       "      <td>NaN</td>\n",
       "      <td>NaN</td>\n",
       "      <td>Admission Date:  [**2186-6-16**]              ...</td>\n",
       "      <td>\\nMr. [**Known lastname 19704**] was transferr...</td>\n",
       "    </tr>\n",
       "  </tbody>\n",
       "</table>\n",
       "<p>45167 rows × 12 columns</p>\n",
       "</div>"
      ],
      "text/plain": [
       "       ROW_ID  SUBJECT_ID   HADM_ID   CHARTDATE CHARTTIME STORETIME  \\\n",
       "0         175       13702  107527.0  2118-06-14       NaN       NaN   \n",
       "1         176       13702  167118.0  2119-05-25       NaN       NaN   \n",
       "2         177       13702  196489.0  2124-08-18       NaN       NaN   \n",
       "3         178       26880  135453.0  2162-03-25       NaN       NaN   \n",
       "4         179       53181  170490.0  2172-03-08       NaN       NaN   \n",
       "...       ...         ...       ...         ...       ...       ...   \n",
       "45162   53613       43691  147266.0  2147-03-01       NaN       NaN   \n",
       "45163   53614       80847  129802.0  2190-06-05       NaN       NaN   \n",
       "45164   53615       41074  182558.0  2121-06-14       NaN       NaN   \n",
       "45165   53616       76397  184741.0  2182-04-22       NaN       NaN   \n",
       "45166   53617       87196  121964.0  2186-06-16       NaN       NaN   \n",
       "\n",
       "                CATEGORY DESCRIPTION  CGID  ISERROR  \\\n",
       "0      Discharge summary      Report   NaN      NaN   \n",
       "1      Discharge summary      Report   NaN      NaN   \n",
       "2      Discharge summary      Report   NaN      NaN   \n",
       "3      Discharge summary      Report   NaN      NaN   \n",
       "4      Discharge summary      Report   NaN      NaN   \n",
       "...                  ...         ...   ...      ...   \n",
       "45162  Discharge summary      Report   NaN      NaN   \n",
       "45163  Discharge summary      Report   NaN      NaN   \n",
       "45164  Discharge summary      Report   NaN      NaN   \n",
       "45165  Discharge summary      Report   NaN      NaN   \n",
       "45166  Discharge summary      Report   NaN      NaN   \n",
       "\n",
       "                                                    TEXT  \\\n",
       "0      Admission Date:  [**2118-6-2**]       Discharg...   \n",
       "1      Admission Date:  [**2119-5-4**]              D...   \n",
       "2      Admission Date:  [**2124-7-21**]              ...   \n",
       "3      Admission Date:  [**2162-3-3**]              D...   \n",
       "4      Admission Date:  [**2172-3-5**]              D...   \n",
       "...                                                  ...   \n",
       "45162  Admission Date:  [**2147-2-25**]              ...   \n",
       "45163  Admission Date:  [**2190-5-13**]              ...   \n",
       "45164  Admission Date:  [**2121-6-13**]              ...   \n",
       "45165  Admission Date:  [**2182-4-19**]              ...   \n",
       "45166  Admission Date:  [**2186-6-16**]              ...   \n",
       "\n",
       "                                         HOSPITAL_COURSE  \n",
       "0      \\n1. COPD/dyspnea/pneumonia:  The patient was ...  \n",
       "1      \\n82 y/o female admitted [**2119-5-4**] for co...  \n",
       "2      \\n87 yo F with h/o CHF, COPD on 5 L oxygen at ...  \n",
       "3      \\nMr. [**Known lastname 1829**] was seen at [*...  \n",
       "4      \\nPatient presented electively for meningioma ...  \n",
       "...                                                  ...  \n",
       "45162  \\nMs. [**Known lastname **] was admitted to th...  \n",
       "45163  \\nThis patient presented to the Emergency Depa...  \n",
       "45164  \\n74 y/o male who presents with massive ICH.\\n...  \n",
       "45165  \\nGiven splenic laceration Mr. [**Known lastna...  \n",
       "45166  \\nMr. [**Known lastname 19704**] was transferr...  \n",
       "\n",
       "[45167 rows x 12 columns]"
      ]
     },
     "execution_count": 14,
     "metadata": {},
     "output_type": "execute_result"
    }
   ],
   "source": [
    "df_hc_filter"
   ]
  },
  {
   "cell_type": "code",
   "execution_count": 17,
   "metadata": {},
   "outputs": [],
   "source": [
    "from pathlib import Path\n",
    "Path(\"../data/hpi-dataset\").mkdir(parents=True, exist_ok=True)"
   ]
  },
  {
   "cell_type": "code",
   "execution_count": 18,
   "metadata": {
    "id": "pcKRYzS3KUWE"
   },
   "outputs": [],
   "source": [
    "df_hc_filter.to_csv('../data/hpi-dataset/HOSPITAL_COURSES.csv', index=False)"
   ]
  },
  {
   "cell_type": "code",
   "execution_count": null,
   "metadata": {
    "id": "7D-xUa7hJVsB"
   },
   "outputs": [],
   "source": []
  }
 ],
 "metadata": {
  "accelerator": "GPU",
  "colab": {
   "collapsed_sections": [],
   "machine_shape": "hm",
   "name": "Creating Hospital Course Dataset",
   "provenance": []
  },
  "kernelspec": {
   "display_name": "consistency",
   "language": "python",
   "name": "consistency"
  },
  "language_info": {
   "codemirror_mode": {
    "name": "ipython",
    "version": 3
   },
   "file_extension": ".py",
   "mimetype": "text/x-python",
   "name": "python",
   "nbconvert_exporter": "python",
   "pygments_lexer": "ipython3",
   "version": "3.9.1"
  }
 },
 "nbformat": 4,
 "nbformat_minor": 1
}
