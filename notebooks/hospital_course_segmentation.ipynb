{
 "cells": [
  {
   "cell_type": "code",
   "execution_count": 1,
   "metadata": {
    "id": "KQLpYeAiQYoL"
   },
   "outputs": [],
   "source": [
    "import numpy as np\n",
    "import pandas as pd\n",
    "import re"
   ]
  },
  {
   "cell_type": "code",
   "execution_count": 2,
   "metadata": {
    "colab": {
     "base_uri": "https://localhost:8080/"
    },
    "id": "GX20IaBGQaNS",
    "outputId": "efa6c9ae-b1aa-4aa7-b4ce-902efd26e57f"
   },
   "outputs": [],
   "source": [
    "#Upload Hospital Course Dataset\n",
    "hc_csv = '../data/hpi-dataset/HOSPITAL_COURSES.csv'"
   ]
  },
  {
   "cell_type": "code",
   "execution_count": 3,
   "metadata": {
    "colab": {
     "base_uri": "https://localhost:8080/"
    },
    "id": "cj_C_VqhQoGs",
    "outputId": "99acb65a-18a6-4762-d4ef-ec4eec0dc952"
   },
   "outputs": [],
   "source": [
    "def load_data(dataset):\n",
    "        print('----Started data loading process...')\n",
    "        df = pd.read_csv(dataset)\n",
    "        print('----Data loaded.')\n",
    "        return df"
   ]
  },
  {
   "cell_type": "code",
   "execution_count": 4,
   "metadata": {},
   "outputs": [
    {
     "name": "stdout",
     "output_type": "stream",
     "text": [
      "----Started data loading process...\n",
      "----Data loaded.\n"
     ]
    }
   ],
   "source": [
    "df_hc = load_data(hc_csv)"
   ]
  },
  {
   "cell_type": "markdown",
   "metadata": {
    "id": "_McqrsfnXqiF"
   },
   "source": [
    "## Strategy 1: First & Last Sentence Approach"
   ]
  },
  {
   "cell_type": "code",
   "execution_count": 5,
   "metadata": {
    "colab": {
     "base_uri": "https://localhost:8080/"
    },
    "id": "RtdiHzLKRCq6",
    "outputId": "df8e7830-233f-4f2b-a57e-ef331f241f4c"
   },
   "outputs": [
    {
     "name": "stderr",
     "output_type": "stream",
     "text": [
      "[nltk_data] Downloading package punkt to\n",
      "[nltk_data]     C:\\Users\\vince\\AppData\\Roaming\\nltk_data...\n",
      "[nltk_data]   Package punkt is already up-to-date!\n"
     ]
    }
   ],
   "source": [
    "# NLTK Import\n",
    "import nltk\n",
    "import nltk.data\n",
    "nltk.download('punkt')\n",
    "from nltk.tokenize import sent_tokenize"
   ]
  },
  {
   "cell_type": "code",
   "execution_count": 7,
   "metadata": {
    "colab": {
     "base_uri": "https://localhost:8080/"
    },
    "id": "TG7hsgwkXjq4",
    "outputId": "9459b8bc-6122-4e6f-9747-04b188ffb510"
   },
   "outputs": [
    {
     "name": "stdout",
     "output_type": "stream",
     "text": [
      "1.\n",
      "-----\n",
      "COPD/dyspnea/pneumonia:  The patient was initially placed on an aggressive steroid taper and admitted to the Medical Intensive Care Unit due to her difficulty with oxygenation despite CPAP machine.\n",
      "-----\n",
      "She was also given nebulizer treatments q.4h.\n",
      "-----\n",
      "as well as chest PT.\n",
      "-----\n",
      "The nebulizers were increased to q.1h.\n",
      "-----\n",
      "due to the fact that she continued to have labored breathing.\n",
      "-----\n",
      "Due to persistent respiratory failure and labored breathing, the patient was intubated on [**2118-6-7**] in order to improve oxygenation, ventilation, and ability to suction.\n",
      "-----\n",
      "A bronchoscopy was performed on [**2118-6-7**], which demonstrated marked narrowing of the airways with expiration consistent with tracheomalacia.\n",
      "-----\n",
      "On [**2118-6-9**], two silicone stents were placed, one in the left main stem (12 x 25 and one in the trachea 16 x 40) by Dr. [**First Name (STitle) **] [**Name (STitle) **] under rigid bronchoscopy with general anesthesia.\n",
      "-----\n",
      "On [**2118-6-11**], the patient was extubated to a cool mist shovel mask and her oxygen was titrated down to 2 liters nasal cannula at which time she was transferred to the medical floor.\n",
      "-----\n",
      "On the medical floor, the steroids were weaned to off on [**2118-6-14**], and the patient was saturating at 97% on 2 liters, 92% on room air.\n",
      "-----\n",
      "On [**2118-6-14**], the patient was seen again by the Interventional Pulmonology service, who agreed that she looked much improved and recommended that she go to pulmonary rehabilitation with followup within six weeks' time status post placement of stents in respiratory failure.\n",
      "-----\n",
      "2.\n",
      "-----\n",
      "Cardiovascular:  The patient was ruled out for a MI.\n",
      "-----\n",
      "She did have another episode on the medical floor of chest pain, which showed no evidence of EKG changes and negative troponin, negative CKs x3.\n",
      "-----\n",
      "She was continued on aspirin, Imdur, and diltiazem for rate control per her outpatient regimen.\n",
      "-----\n",
      "3.\n",
      "-----\n",
      "Hypertension:  She was maintained on diltiazem and hydrochlorothiazide with adequate blood pressure control and normalization of electrolytes.\n",
      "-----\n",
      "4.\n",
      "-----\n",
      "Hematuria:  The patient had intermittent hematuria likely secondary to Foley placement.\n",
      "-----\n",
      "The Foley catheter was discontinued on [**2118-6-14**].\n",
      "-----\n",
      "She had serial urinalyses, which were all negative for signs of infection.\n",
      "-----\n",
      "5.\n",
      "-----\n",
      "Hyperglycemia:  Patient was placed on insulin-sliding scale due to hyperglycemia, which was steroid induced.\n",
      "-----\n",
      "This worked quite well and her glucose came back to normal levels once the steroids were tapered to off.\n",
      "-----\n",
      "6.\n",
      "-----\n",
      "Leukocytosis:  Patient did have a profound leukocytosis of 20 to 22 during much of her hospital course.\n",
      "-----\n",
      "As the steroids were tapered to off, her white blood cell count on [**2118-6-14**] was 15,000.\n",
      "-----\n",
      "It was felt that the leukocytosis was secondary to both steroids as well as question of a left lower lobe pneumonia.\n",
      "-----\n",
      "7.\n",
      "-----\n",
      "For the left lower lobe pneumonia, the patient had initially received a course of levofloxacin 500 p.o.\n",
      "-----\n",
      "q.d.\n",
      "-----\n",
      "from [**2118-6-4**] to [**2118-6-10**].\n",
      "-----\n",
      "This was restarted on [**2118-6-12**] for an additional seven day course given the fact that she still had the leukocytosis and still had marked rales at the left lower lobe.\n",
      "-----\n",
      "8.\n",
      "-----\n",
      "Hypothyroidism:  The patient was continued on outpatient medical regimen.\n",
      "-----\n",
      "9.\n",
      "-----\n",
      "Depression:  The patient was continued on Lexapro per outpatient regimen.\n",
      "-----\n",
      "It is recommended that she follow up with a therapist as an outpatient due to the fact that she did have a blunted affect throughout much of the hospital course, and did appear clinically to be depressed.\n",
      "-----\n",
      "10.\n",
      "-----\n",
      "Prophylaxis:  She was maintained on proton-pump inhibitor with subQ Heparin.\n",
      "-----\n",
      "11.\n",
      "-----\n",
      "Sore throat:  The patient did have a sore throat for much of the hospital course post extubation.\n",
      "-----\n",
      "This was treated with Cepacol lozenges as well as KBL liquid (a solution containing Kaopectate, Bismuth, and lidocaine) at bedtime.\n",
      "-----\n",
      "12.\n",
      "-----\n",
      "Communication/code status:  The patient was full code throughout her hospital course, and communication was maintained with the patient and her husband.\n",
      "-----\n",
      "13.\n",
      "-----\n",
      "Muscle weakness:  The patient did have profound muscle weakness and was evaluated by Physical Therapy, and was found to have impaired functional mobility, impaired musculoskeletal performance, impaired gas exchange, impaired endurance, impaired ventilation, and needed help with supine to sit.\n",
      "-----\n",
      "However, she was able to tolerate sitting in a chair for approximately one hour.\n",
      "-----\n",
      "On motor exam, her flexors and extensors of the lower extremities were [**4-8**] at the knee, [**4-8**] at the ankle, [**4-8**] at the elbows, and [**4-8**] hips.\n",
      "-----\n",
      "It was felt that this weakness was most likely due to a combination of steroid myopathy as well as muscle atrophy secondary to deconditioning after a prolonged hospital course.\n",
      "-----\n",
      "14.\n",
      "-----\n",
      "Speech/swallow:  The patient had a Speech and Swallow evaluation showing no evidence of dysphagia, no evidence of vocal cord damage status post tracheal stent placement.\n",
      "-----\n",
      "DISCHARGE CONDITION:  The patient was able to oxygenate on room air at 93% at the time of discharge.\n",
      "-----\n",
      "She was profoundly weak, but was no longer tachycardic and had a normal blood pressure.\n",
      "-----\n",
      "Her respirations were much improved albeit with transmitted upper airway sounds.\n",
      "-----\n",
      "DISCHARGE STATUS:  The patient will be discharged to [**Hospital1 **] for both pulmonary and physical rehabilitation.\n"
     ]
    }
   ],
   "source": [
    "# Test tokenization on Hopsital Course Section\n",
    "data = df_hc.loc[0, \"HOSPITAL_COURSE\"].replace('\\n',' ').strip()\n",
    "print('\\n-----\\n'.join(sent_tokenize(data)))"
   ]
  },
  {
   "cell_type": "code",
   "execution_count": 9,
   "metadata": {
    "id": "dZdx5b-1TkCy"
   },
   "outputs": [],
   "source": [
    "# Use Pandas 'apply' method to tokenize hospital courses\n",
    "df_hc[\"TOKENIZED_HOSPITAL_COURSE\"] = df_hc.apply(lambda row: sent_tokenize(row['HOSPITAL_COURSE'].replace('\\n',' ').strip()), axis=1)"
   ]
  },
  {
   "cell_type": "code",
   "execution_count": 10,
   "metadata": {
    "id": "Oi2z2P1ynlgZ"
   },
   "outputs": [],
   "source": [
    "# fix sentence issues wih a regex\n",
    "pat_1 = re.compile(r'^(\\.)$|^(\\d+.\\)?)$|^(#\\.)$')\n",
    "pat_2 = re.compile(r'^([0-9]*\\sy.o.)$|^([Pp]t.)$')\n",
    "for i, x in df_hc['TOKENIZED_HOSPITAL_COURSE'].iteritems():\n",
    "  if pat_2.search(x[0]):\n",
    "    x[0:2] = [' '.join(x[0:2])]\n",
    "  filtered = [k for k in x if not pat_1.search(k)]\n",
    "  df_hc.at[i,'TOKENIZED_HOSPITAL_COURSE'] = filtered"
   ]
  },
  {
   "cell_type": "code",
   "execution_count": 11,
   "metadata": {
    "id": "xb8e8hsXaw9y"
   },
   "outputs": [],
   "source": [
    "# Segment the first and last sentence accordingly\n",
    "r = re.compile(\".*discharge|.*death|.*deceased|.*died|.*follow-up|.*followup|.*AMA\", re.IGNORECASE)\n",
    "df_firstlast = df_hc.copy(deep=True)\n",
    "df_firstlast['HC_HPI'] = df_firstlast['TOKENIZED_HOSPITAL_COURSE'].map(lambda x: x[0])\n",
    "df_firstlast['HC_DAY_TO_DAY'] = df_firstlast['TOKENIZED_HOSPITAL_COURSE'].map(lambda x: \" \".join(x[1:-2]))\n",
    "df_firstlast['HC_DISCHARGE_PLAN'] = df_firstlast['TOKENIZED_HOSPITAL_COURSE'].map(lambda x: \" \".join(list(filter(r.match, x))))"
   ]
  },
  {
   "cell_type": "code",
   "execution_count": 12,
   "metadata": {
    "id": "jfMA9rVCc_ql"
   },
   "outputs": [],
   "source": [
    "# Save First/Last Sentence Segment Approach\n",
    "df_firstlast.to_csv('../data/hpi-dataset/HOSPITAL_COURSES_FIRSTLAST.csv', index=False)"
   ]
  },
  {
   "cell_type": "code",
   "execution_count": null,
   "metadata": {},
   "outputs": [],
   "source": []
  }
 ],
 "metadata": {
  "colab": {
   "collapsed_sections": [],
   "name": "Hospital Course Segmentation",
   "provenance": []
  },
  "kernelspec": {
   "display_name": "abstractive",
   "language": "python",
   "name": "abstractive"
  },
  "language_info": {
   "codemirror_mode": {
    "name": "ipython",
    "version": 3
   },
   "file_extension": ".py",
   "mimetype": "text/x-python",
   "name": "python",
   "nbconvert_exporter": "python",
   "pygments_lexer": "ipython3",
   "version": "3.9.1"
  }
 },
 "nbformat": 4,
 "nbformat_minor": 1
}
